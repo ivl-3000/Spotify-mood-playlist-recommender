{
 "cells": [
  {
   "cell_type": "markdown",
   "id": "dad0d383",
   "metadata": {},
   "source": [
    "### Example – Content-Based Filtering (Songs by Danceability & Valence)\n",
    "We’ll simulate Spotify audio features."
   ]
  },
  {
   "cell_type": "code",
   "execution_count": 4,
   "id": "66f1d1c3",
   "metadata": {},
   "outputs": [
    {
     "name": "stdout",
     "output_type": "stream",
     "text": [
      "Collecting scikit-learn\n",
      "  Downloading scikit_learn-1.7.2-cp310-cp310-win_amd64.whl.metadata (11 kB)\n",
      "Requirement already satisfied: numpy>=1.22.0 in c:\\users\\jaina\\appdata\\local\\programs\\python\\python310\\lib\\site-packages (from scikit-learn) (1.26.4)\n",
      "Requirement already satisfied: scipy>=1.8.0 in c:\\users\\jaina\\appdata\\local\\programs\\python\\python310\\lib\\site-packages (from scikit-learn) (1.15.3)\n",
      "Requirement already satisfied: joblib>=1.2.0 in c:\\users\\jaina\\appdata\\local\\programs\\python\\python310\\lib\\site-packages (from scikit-learn) (1.5.2)\n",
      "Collecting threadpoolctl>=3.1.0 (from scikit-learn)\n",
      "  Downloading threadpoolctl-3.6.0-py3-none-any.whl.metadata (13 kB)\n",
      "Downloading scikit_learn-1.7.2-cp310-cp310-win_amd64.whl (8.9 MB)\n",
      "   ---------------------------------------- 0.0/8.9 MB ? eta -:--:--\n",
      "   ---- ----------------------------------- 1.0/8.9 MB 7.2 MB/s eta 0:00:02\n",
      "   -------------- ------------------------- 3.1/8.9 MB 9.2 MB/s eta 0:00:01\n",
      "   ---------------------- ----------------- 5.0/8.9 MB 8.9 MB/s eta 0:00:01\n",
      "   ----------------------------- ---------- 6.6/8.9 MB 8.8 MB/s eta 0:00:01\n",
      "   ------------------------------------- -- 8.4/8.9 MB 8.7 MB/s eta 0:00:01\n",
      "   ---------------------------------------- 8.9/8.9 MB 8.4 MB/s  0:00:01\n",
      "Downloading threadpoolctl-3.6.0-py3-none-any.whl (18 kB)\n",
      "Installing collected packages: threadpoolctl, scikit-learn\n",
      "\n",
      "   -------------------- ------------------- 1/2 [scikit-learn]\n",
      "   -------------------- ------------------- 1/2 [scikit-learn]\n",
      "   -------------------- ------------------- 1/2 [scikit-learn]\n",
      "   -------------------- ------------------- 1/2 [scikit-learn]\n",
      "   -------------------- ------------------- 1/2 [scikit-learn]\n",
      "   -------------------- ------------------- 1/2 [scikit-learn]\n",
      "   -------------------- ------------------- 1/2 [scikit-learn]\n",
      "   -------------------- ------------------- 1/2 [scikit-learn]\n",
      "   -------------------- ------------------- 1/2 [scikit-learn]\n",
      "   -------------------- ------------------- 1/2 [scikit-learn]\n",
      "   -------------------- ------------------- 1/2 [scikit-learn]\n",
      "   -------------------- ------------------- 1/2 [scikit-learn]\n",
      "   -------------------- ------------------- 1/2 [scikit-learn]\n",
      "   -------------------- ------------------- 1/2 [scikit-learn]\n",
      "   -------------------- ------------------- 1/2 [scikit-learn]\n",
      "   -------------------- ------------------- 1/2 [scikit-learn]\n",
      "   -------------------- ------------------- 1/2 [scikit-learn]\n",
      "   -------------------- ------------------- 1/2 [scikit-learn]\n",
      "   -------------------- ------------------- 1/2 [scikit-learn]\n",
      "   -------------------- ------------------- 1/2 [scikit-learn]\n",
      "   -------------------- ------------------- 1/2 [scikit-learn]\n",
      "   -------------------- ------------------- 1/2 [scikit-learn]\n",
      "   -------------------- ------------------- 1/2 [scikit-learn]\n",
      "   -------------------- ------------------- 1/2 [scikit-learn]\n",
      "   -------------------- ------------------- 1/2 [scikit-learn]\n",
      "   -------------------- ------------------- 1/2 [scikit-learn]\n",
      "   -------------------- ------------------- 1/2 [scikit-learn]\n",
      "   -------------------- ------------------- 1/2 [scikit-learn]\n",
      "   -------------------- ------------------- 1/2 [scikit-learn]\n",
      "   -------------------- ------------------- 1/2 [scikit-learn]\n",
      "   -------------------- ------------------- 1/2 [scikit-learn]\n",
      "   -------------------- ------------------- 1/2 [scikit-learn]\n",
      "   -------------------- ------------------- 1/2 [scikit-learn]\n",
      "   -------------------- ------------------- 1/2 [scikit-learn]\n",
      "   -------------------- ------------------- 1/2 [scikit-learn]\n",
      "   -------------------- ------------------- 1/2 [scikit-learn]\n",
      "   -------------------- ------------------- 1/2 [scikit-learn]\n",
      "   -------------------- ------------------- 1/2 [scikit-learn]\n",
      "   -------------------- ------------------- 1/2 [scikit-learn]\n",
      "   -------------------- ------------------- 1/2 [scikit-learn]\n",
      "   -------------------- ------------------- 1/2 [scikit-learn]\n",
      "   -------------------- ------------------- 1/2 [scikit-learn]\n",
      "   -------------------- ------------------- 1/2 [scikit-learn]\n",
      "   -------------------- ------------------- 1/2 [scikit-learn]\n",
      "   -------------------- ------------------- 1/2 [scikit-learn]\n",
      "   -------------------- ------------------- 1/2 [scikit-learn]\n",
      "   -------------------- ------------------- 1/2 [scikit-learn]\n",
      "   -------------------- ------------------- 1/2 [scikit-learn]\n",
      "   -------------------- ------------------- 1/2 [scikit-learn]\n",
      "   -------------------- ------------------- 1/2 [scikit-learn]\n",
      "   -------------------- ------------------- 1/2 [scikit-learn]\n",
      "   -------------------- ------------------- 1/2 [scikit-learn]\n",
      "   -------------------- ------------------- 1/2 [scikit-learn]\n",
      "   -------------------- ------------------- 1/2 [scikit-learn]\n",
      "   -------------------- ------------------- 1/2 [scikit-learn]\n",
      "   -------------------- ------------------- 1/2 [scikit-learn]\n",
      "   -------------------- ------------------- 1/2 [scikit-learn]\n",
      "   -------------------- ------------------- 1/2 [scikit-learn]\n",
      "   -------------------- ------------------- 1/2 [scikit-learn]\n",
      "   -------------------- ------------------- 1/2 [scikit-learn]\n",
      "   -------------------- ------------------- 1/2 [scikit-learn]\n",
      "   -------------------- ------------------- 1/2 [scikit-learn]\n",
      "   -------------------- ------------------- 1/2 [scikit-learn]\n",
      "   -------------------- ------------------- 1/2 [scikit-learn]\n",
      "   -------------------- ------------------- 1/2 [scikit-learn]\n",
      "   -------------------- ------------------- 1/2 [scikit-learn]\n",
      "   -------------------- ------------------- 1/2 [scikit-learn]\n",
      "   -------------------- ------------------- 1/2 [scikit-learn]\n",
      "   -------------------- ------------------- 1/2 [scikit-learn]\n",
      "   -------------------- ------------------- 1/2 [scikit-learn]\n",
      "   -------------------- ------------------- 1/2 [scikit-learn]\n",
      "   -------------------- ------------------- 1/2 [scikit-learn]\n",
      "   -------------------- ------------------- 1/2 [scikit-learn]\n",
      "   -------------------- ------------------- 1/2 [scikit-learn]\n",
      "   -------------------- ------------------- 1/2 [scikit-learn]\n",
      "   -------------------- ------------------- 1/2 [scikit-learn]\n",
      "   -------------------- ------------------- 1/2 [scikit-learn]\n",
      "   -------------------- ------------------- 1/2 [scikit-learn]\n",
      "   -------------------- ------------------- 1/2 [scikit-learn]\n",
      "   -------------------- ------------------- 1/2 [scikit-learn]\n",
      "   -------------------- ------------------- 1/2 [scikit-learn]\n",
      "   -------------------- ------------------- 1/2 [scikit-learn]\n",
      "   -------------------- ------------------- 1/2 [scikit-learn]\n",
      "   -------------------- ------------------- 1/2 [scikit-learn]\n",
      "   -------------------- ------------------- 1/2 [scikit-learn]\n",
      "   -------------------- ------------------- 1/2 [scikit-learn]\n",
      "   -------------------- ------------------- 1/2 [scikit-learn]\n",
      "   -------------------- ------------------- 1/2 [scikit-learn]\n",
      "   -------------------- ------------------- 1/2 [scikit-learn]\n",
      "   -------------------- ------------------- 1/2 [scikit-learn]\n",
      "   -------------------- ------------------- 1/2 [scikit-learn]\n",
      "   -------------------- ------------------- 1/2 [scikit-learn]\n",
      "   -------------------- ------------------- 1/2 [scikit-learn]\n",
      "   -------------------- ------------------- 1/2 [scikit-learn]\n",
      "   -------------------- ------------------- 1/2 [scikit-learn]\n",
      "   -------------------- ------------------- 1/2 [scikit-learn]\n",
      "   -------------------- ------------------- 1/2 [scikit-learn]\n",
      "   -------------------- ------------------- 1/2 [scikit-learn]\n",
      "   -------------------- ------------------- 1/2 [scikit-learn]\n",
      "   -------------------- ------------------- 1/2 [scikit-learn]\n",
      "   -------------------- ------------------- 1/2 [scikit-learn]\n",
      "   -------------------- ------------------- 1/2 [scikit-learn]\n",
      "   -------------------- ------------------- 1/2 [scikit-learn]\n",
      "   -------------------- ------------------- 1/2 [scikit-learn]\n",
      "   -------------------- ------------------- 1/2 [scikit-learn]\n",
      "   ---------------------------------------- 2/2 [scikit-learn]\n",
      "\n",
      "Successfully installed scikit-learn-1.7.2 threadpoolctl-3.6.0\n"
     ]
    }
   ],
   "source": [
    "# Install sklearn in a Jupyter notebook\n",
    "!pip install scikit-learn"
   ]
  },
  {
   "cell_type": "code",
   "execution_count": 5,
   "id": "e3ba10e6",
   "metadata": {},
   "outputs": [
    {
     "name": "stdout",
     "output_type": "stream",
     "text": [
      "🎶 Song Dataset:\n",
      "   song_id           title  danceability  valence\n",
      "0      S1     Happy Vibes          0.80     0.90\n",
      "1      S2       Sad Piano          0.20     0.10\n",
      "2      S3     Dance Floor          0.90     0.80\n",
      "3      S4     Chill Beats          0.40     0.50\n",
      "4      S5  Workout Energy          0.95     0.85\n"
     ]
    }
   ],
   "source": [
    "import pandas as pd\n",
    "from sklearn.metrics.pairwise import cosine_similarity\n",
    "\n",
    "# Example song dataset (Spotify API gives features like danceability, valence)\n",
    "songs = pd.DataFrame({\n",
    "    \"song_id\": [\"S1\", \"S2\", \"S3\", \"S4\", \"S5\"],\n",
    "    \"title\": [\"Happy Vibes\", \"Sad Piano\", \"Dance Floor\", \"Chill Beats\", \"Workout Energy\"],\n",
    "    \"danceability\": [0.8, 0.2, 0.9, 0.4, 0.95],\n",
    "    \"valence\": [0.9, 0.1, 0.8, 0.5, 0.85]   # valence ~ how positive/happy a song feels\n",
    "})\n",
    "\n",
    "print(\"🎶 Song Dataset:\\n\", songs)"
   ]
  },
  {
   "cell_type": "code",
   "execution_count": 6,
   "id": "4257a0d7",
   "metadata": {},
   "outputs": [
    {
     "name": "stdout",
     "output_type": "stream",
     "text": [
      "\n",
      "🎵 Song Similarity (Content-Based):\n",
      " title           Happy Vibes  Sad Piano  Dance Floor  Chill Beats  \\\n",
      "title                                                              \n",
      "Happy Vibes        1.000000   0.928477     0.993103     0.998653   \n",
      "Sad Piano          0.928477   1.000000     0.965616     0.907959   \n",
      "Dance Floor        0.993103   0.965616     1.000000     0.985684   \n",
      "Chill Beats        0.998653   0.907959     0.985684     1.000000   \n",
      "Workout Energy     0.993480   0.964764     0.999995     0.986228   \n",
      "\n",
      "title           Workout Energy  \n",
      "title                           \n",
      "Happy Vibes           0.993480  \n",
      "Sad Piano             0.964764  \n",
      "Dance Floor           0.999995  \n",
      "Chill Beats           0.986228  \n",
      "Workout Energy        1.000000  \n"
     ]
    }
   ],
   "source": [
    "# Select features\n",
    "features = songs[[\"danceability\", \"valence\"]]\n",
    "\n",
    "# Compute similarity\n",
    "similarity = cosine_similarity(features)\n",
    "\n",
    "# Put into DataFrame for clarity\n",
    "sim_df = pd.DataFrame(similarity, index=songs[\"title\"], columns=songs[\"title\"])\n",
    "print(\"\\n🎵 Song Similarity (Content-Based):\\n\", sim_df)"
   ]
  },
  {
   "cell_type": "code",
   "execution_count": 7,
   "id": "05d46035",
   "metadata": {},
   "outputs": [
    {
     "name": "stdout",
     "output_type": "stream",
     "text": [
      "\n",
      "✅ Recommendations for 'Happy Vibes':\n",
      "title\n",
      "Chill Beats       0.998653\n",
      "Workout Energy    0.993480\n",
      "Name: Happy Vibes, dtype: float64\n"
     ]
    }
   ],
   "source": [
    "# Example: Recommend songs similar to \"Happy Vibes\"\n",
    "target_song = \"Happy Vibes\"\n",
    "recommendations = sim_df[target_song].sort_values(ascending=False).iloc[1:3]\n",
    "print(f\"\\n✅ Recommendations for '{target_song}':\")\n",
    "print(recommendations)"
   ]
  },
  {
   "cell_type": "markdown",
   "id": "f0329f1d",
   "metadata": {},
   "source": [
    "Means: If user liked “Happy Vibes”, recommend “Dance Floor” & “Workout Energy”."
   ]
  },
  {
   "cell_type": "code",
   "execution_count": null,
   "id": "1d6be073",
   "metadata": {},
   "outputs": [],
   "source": []
  },
  {
   "cell_type": "markdown",
   "id": "5aa8b2ae",
   "metadata": {},
   "source": [
    "### Example – Collaborative Filtering (Fake User-Song Ratings)\n",
    "We’ll simulate user ratings (like/dislike)."
   ]
  },
  {
   "cell_type": "code",
   "execution_count": 8,
   "id": "de1ea84c",
   "metadata": {},
   "outputs": [
    {
     "name": "stdout",
     "output_type": "stream",
     "text": [
      "🎧 User-Song Ratings:\n",
      "        S1  S2  S3  S4  S5\n",
      "User1   5   0   5   0   4\n",
      "User2   4   0   0   3   0\n",
      "User3   0   4   4   0   5\n",
      "User4   0   5   0   4   0\n"
     ]
    }
   ],
   "source": [
    "import numpy as np\n",
    "\n",
    "# Fake user-song rating matrix (rows = users, cols = songs)\n",
    "ratings = pd.DataFrame({\n",
    "    \"S1\": [5, 4, 0, 0],\n",
    "    \"S2\": [0, 0, 4, 5],\n",
    "    \"S3\": [5, 0, 4, 0],\n",
    "    \"S4\": [0, 3, 0, 4],\n",
    "    \"S5\": [4, 0, 5, 0],\n",
    "}, index=[\"User1\", \"User2\", \"User3\", \"User4\"])\n",
    "\n",
    "print(\"🎧 User-Song Ratings:\\n\", ratings)"
   ]
  },
  {
   "cell_type": "code",
   "execution_count": 9,
   "id": "38098fee",
   "metadata": {},
   "outputs": [
    {
     "name": "stdout",
     "output_type": "stream",
     "text": [
      "\n",
      "👥 User Similarity (Collaborative):\n",
      "           User1     User2     User3     User4\n",
      "User1  1.000000  0.492366  0.652155  0.000000\n",
      "User2  0.492366  1.000000  0.000000  0.374817\n",
      "User3  0.652155  0.000000  1.000000  0.413714\n",
      "User4  0.000000  0.374817  0.413714  1.000000\n"
     ]
    }
   ],
   "source": [
    "# Compute cosine similarity between users\n",
    "user_similarity = cosine_similarity(ratings)\n",
    "user_sim_df = pd.DataFrame(user_similarity, index=ratings.index, columns=ratings.index)\n",
    "print(\"\\n👥 User Similarity (Collaborative):\\n\", user_sim_df)"
   ]
  },
  {
   "cell_type": "code",
   "execution_count": 10,
   "id": "13fad407",
   "metadata": {},
   "outputs": [
    {
     "name": "stdout",
     "output_type": "stream",
     "text": [
      "\n",
      "Most similar users to User1:\n",
      " User3    0.652155\n",
      "User2    0.492366\n",
      "Name: User1, dtype: float64\n"
     ]
    }
   ],
   "source": [
    "# Example: Recommend for User1 based on similar users\n",
    "similar_users = user_sim_df[\"User1\"].sort_values(ascending=False).iloc[1:3]\n",
    "print(\"\\nMost similar users to User1:\\n\", similar_users)"
   ]
  },
  {
   "cell_type": "code",
   "execution_count": 11,
   "id": "f51b444c",
   "metadata": {},
   "outputs": [
    {
     "name": "stdout",
     "output_type": "stream",
     "text": [
      "\n",
      "✅ Recommendations for User1 (Collaborative Filtering):\n",
      "S2    4\n",
      "S4    0\n",
      "Name: User3, dtype: int64\n"
     ]
    }
   ],
   "source": [
    "# Get recommendations from similar users\n",
    "user1_ratings = ratings.loc[\"User1\"]\n",
    "recommend_candidates = ratings.loc[\"User3\"]  # pick a similar user\n",
    "recommended_songs = recommend_candidates[user1_ratings == 0].sort_values(ascending=False)\n",
    "\n",
    "print(f\"\\n✅ Recommendations for User1 (Collaborative Filtering):\")\n",
    "print(recommended_songs)\n"
   ]
  },
  {
   "cell_type": "markdown",
   "id": "a6c3f214",
   "metadata": {},
   "source": [
    "Means: User1 has not rated S4 and  S2 but similar users liked them → recommend these songs."
   ]
  },
  {
   "cell_type": "code",
   "execution_count": null,
   "id": "db829a11",
   "metadata": {},
   "outputs": [],
   "source": []
  }
 ],
 "metadata": {
  "kernelspec": {
   "display_name": "Python 3",
   "language": "python",
   "name": "python3"
  },
  "language_info": {
   "codemirror_mode": {
    "name": "ipython",
    "version": 3
   },
   "file_extension": ".py",
   "mimetype": "text/x-python",
   "name": "python",
   "nbconvert_exporter": "python",
   "pygments_lexer": "ipython3",
   "version": "3.10.11"
  }
 },
 "nbformat": 4,
 "nbformat_minor": 5
}
